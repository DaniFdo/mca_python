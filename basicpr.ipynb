{
 "cells": [
  {
   "cell_type": "code",
   "execution_count": 1,
   "id": "d613ca2b",
   "metadata": {},
   "outputs": [
    {
     "name": "stdout",
     "output_type": "stream",
     "text": [
      "<class 'float'>\n"
     ]
    }
   ],
   "source": [
    "a=1.2\n",
    "print(type(a))"
   ]
  },
  {
   "cell_type": "code",
   "execution_count": 7,
   "id": "3a088b21",
   "metadata": {},
   "outputs": [
    {
     "name": "stdout",
     "output_type": "stream",
     "text": [
      "Enter a number :44\n",
      "It is less than 60\n"
     ]
    }
   ],
   "source": [
    "a=int(input(\"Enter a number :\"))\n",
    "if a<60:\n",
    "    print(\"It is less than 60\")\n",
    "else:\n",
    "    print(\"It is greater than 60\")"
   ]
  },
  {
   "cell_type": "code",
   "execution_count": 5,
   "id": "c17ada5a",
   "metadata": {},
   "outputs": [
    {
     "name": "stdout",
     "output_type": "stream",
     "text": [
      "2 4 6 8 10 12 14 16 18 20 "
     ]
    }
   ],
   "source": [
    "start_number=2\n",
    "end_number=50\n",
    "count=0\n",
    "for num in range(start_number,end_number+1,2):\n",
    "    if count<10:\n",
    "        print(num,end=\" \")\n",
    "        count+=1\n",
    "    else:\n",
    "            break"
   ]
  },
  {
   "cell_type": "code",
   "execution_count": 6,
   "id": "bfd87f3f",
   "metadata": {},
   "outputs": [
    {
     "name": "stdout",
     "output_type": "stream",
     "text": [
      "50 50 50 50\n"
     ]
    }
   ],
   "source": [
    "x1=y1=z1=w1=50\n",
    "print(x1,y1,z1,w1)"
   ]
  },
  {
   "cell_type": "code",
   "execution_count": 10,
   "id": "27ec4e1b",
   "metadata": {},
   "outputs": [
    {
     "name": "stdout",
     "output_type": "stream",
     "text": [
      "Enter a number :13\n",
      "It is not divisible by 2 or 3\n"
     ]
    }
   ],
   "source": [
    "a=int(input(\"Enter a number :\"))\n",
    "if a%2==0 or a%3==0:\n",
    "    print(\"It is divisible by 2 or 3\")\n",
    "else:\n",
    "    print(\"It is not divisible by 2 or 3\")\n",
    "    "
   ]
  },
  {
   "cell_type": "code",
   "execution_count": 12,
   "id": "48a15c46",
   "metadata": {},
   "outputs": [
    {
     "name": "stdout",
     "output_type": "stream",
     "text": [
      "Enter p :10\n",
      "Enter q% :20\n",
      "Enter r :10\n",
      "20.0\n"
     ]
    }
   ],
   "source": [
    "p=int(input(\"Enter p :\"))\n",
    "q=int(input(\"Enter q% :\"))\n",
    "r=int(input(\"Enter r :\"))\n",
    "SI=(p*q*r)/100\n",
    "print(SI)"
   ]
  },
  {
   "cell_type": "code",
   "execution_count": 13,
   "id": "275cefa0",
   "metadata": {},
   "outputs": [
    {
     "name": "stdout",
     "output_type": "stream",
     "text": [
      "Hello 12 2.5\n"
     ]
    }
   ],
   "source": [
    "var_string,var_integer,var_float=\"Hello\",12,2.5\n",
    "print(var_string,var_integer,var_float)"
   ]
  },
  {
   "cell_type": "code",
   "execution_count": 18,
   "id": "9131490b",
   "metadata": {},
   "outputs": [
    {
     "name": "stdout",
     "output_type": "stream",
     "text": [
      "Enter the value66\n",
      "Very Good\n"
     ]
    }
   ],
   "source": [
    "a=int(input(\"Enter the value\"))\n",
    "if a<=40:\n",
    "    print(\"Average\")\n",
    "elif a>40 and a<=50:\n",
    "    print(\"Good\")\n",
    "else:\n",
    "    print(\"Very Good\")\n",
    "    "
   ]
  },
  {
   "cell_type": "code",
   "execution_count": 20,
   "id": "1082459d",
   "metadata": {},
   "outputs": [
    {
     "name": "stdout",
     "output_type": "stream",
     "text": [
      "Enter a number :4\n",
      "24\n"
     ]
    }
   ],
   "source": [
    "i=int(input(\"Enter a number :\"))\n",
    "fact=1\n",
    "while i>0:\n",
    "    fact=fact*i\n",
    "    i=i-1\n",
    "print(fact)"
   ]
  },
  {
   "cell_type": "code",
   "execution_count": 21,
   "id": "9b4002b8",
   "metadata": {},
   "outputs": [
    {
     "name": "stdout",
     "output_type": "stream",
     "text": [
      "20\n"
     ]
    },
    {
     "ename": "NameError",
     "evalue": "name 'z' is not defined",
     "output_type": "error",
     "traceback": [
      "\u001b[1;31m---------------------------------------------------------------------------\u001b[0m",
      "\u001b[1;31mNameError\u001b[0m                                 Traceback (most recent call last)",
      "\u001b[1;32m~\\AppData\\Local\\Temp\\ipykernel_9832\\2178600396.py\u001b[0m in \u001b[0;36m<module>\u001b[1;34m\u001b[0m\n\u001b[0;32m      2\u001b[0m \u001b[0mprint\u001b[0m\u001b[1;33m(\u001b[0m\u001b[0mz\u001b[0m\u001b[1;33m)\u001b[0m\u001b[1;33m\u001b[0m\u001b[1;33m\u001b[0m\u001b[0m\n\u001b[0;32m      3\u001b[0m \u001b[1;32mdel\u001b[0m\u001b[1;33m(\u001b[0m\u001b[0mz\u001b[0m\u001b[1;33m)\u001b[0m\u001b[1;33m\u001b[0m\u001b[1;33m\u001b[0m\u001b[0m\n\u001b[1;32m----> 4\u001b[1;33m \u001b[0mprint\u001b[0m\u001b[1;33m(\u001b[0m\u001b[0mz\u001b[0m\u001b[1;33m)\u001b[0m\u001b[1;33m\u001b[0m\u001b[1;33m\u001b[0m\u001b[0m\n\u001b[0m",
      "\u001b[1;31mNameError\u001b[0m: name 'z' is not defined"
     ]
    }
   ],
   "source": [
    "z=20\n",
    "print(z)\n",
    "del(z)\n",
    "print(z)"
   ]
  },
  {
   "cell_type": "code",
   "execution_count": 23,
   "id": "cfabc10a",
   "metadata": {},
   "outputs": [
    {
     "name": "stdout",
     "output_type": "stream",
     "text": [
      "Enter num1 :2\n",
      "Enter num2 :3\n",
      "Enter num3 :4\n",
      "The largest number is : 4\n"
     ]
    }
   ],
   "source": [
    "def find_largest(num1,num2,num3):\n",
    "    largest=max(num1,num2,num3)\n",
    "    return largest\n",
    "number1=int(input(\"Enter num1 :\"))\n",
    "number2=int(input(\"Enter num2 :\"))\n",
    "number3=int(input(\"Enter num3 :\"))\n",
    "result=find_largest(number1,number2,number3)\n",
    "print(\"The largest number is :\",result)"
   ]
  },
  {
   "cell_type": "code",
   "execution_count": 27,
   "id": "feb1ffb0",
   "metadata": {},
   "outputs": [
    {
     "name": "stdout",
     "output_type": "stream",
     "text": [
      "Enter the number of terms :4\n",
      "Sum of series is : 10\n"
     ]
    }
   ],
   "source": [
    "n=int(input(\"Enter the number of terms :\"))\n",
    "i=1\n",
    "s=0\n",
    "while i<=n:\n",
    "    s=s+i\n",
    "    i=i+1\n",
    "print(\"Sum of series is :\",s)"
   ]
  },
  {
   "cell_type": "code",
   "execution_count": null,
   "id": "9cffd5f3",
   "metadata": {},
   "outputs": [],
   "source": []
  }
 ],
 "metadata": {
  "kernelspec": {
   "display_name": "Python 3 (ipykernel)",
   "language": "python",
   "name": "python3"
  },
  "language_info": {
   "codemirror_mode": {
    "name": "ipython",
    "version": 3
   },
   "file_extension": ".py",
   "mimetype": "text/x-python",
   "name": "python",
   "nbconvert_exporter": "python",
   "pygments_lexer": "ipython3",
   "version": "3.9.13"
  }
 },
 "nbformat": 4,
 "nbformat_minor": 5
}
